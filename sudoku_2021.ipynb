{
 "cells": [
  {
   "cell_type": "code",
   "execution_count": 1,
   "metadata": {},
   "outputs": [
    {
     "name": "stdout",
     "output_type": "stream",
     "text": [
      "3.9.4 (default, Apr  9 2021, 11:43:21) [MSC v.1916 64 bit (AMD64)]\n"
     ]
    }
   ],
   "source": [
    "import sys\n",
    "print(f\"{sys.version}\")"
   ]
  },
  {
   "cell_type": "code",
   "execution_count": 2,
   "metadata": {},
   "outputs": [],
   "source": [
    "from copy import deepcopy\n",
    "from enum import Enum\n",
    "from typing import List, Tuple, NamedTuple, Callable, Optional\n",
    "\n",
    "Grid = List[List[int]]\n",
    "Options = List[List[List[int]]]\n",
    "\n",
    "GRID_SIZE: int = 9\n",
    "SECTOR_SIZE: int = 3\n",
    "VALUE_RANGE: int = 9\n",
    "EMPTY = 0\n",
    "\n",
    "class GridLocation(NamedTuple):\n",
    "    row: int\n",
    "    column: int\n",
    "\n"
   ]
  },
  {
   "cell_type": "code",
   "execution_count": 3,
   "metadata": {},
   "outputs": [],
   "source": [
    "# sample puzzles\n",
    "puz1 = [[5,1,7,6,0,0,0,3,4],\n",
    "         [2,8,9,0,0,4,0,0,0],\n",
    "         [3,4,6,2,0,5,0,9,0],\n",
    "         [6,0,2,0,0,0,0,1,0],\n",
    "         [0,3,8,0,0,6,0,4,7],\n",
    "         [0,0,0,0,0,0,0,0,0],\n",
    "         [0,9,0,0,0,0,0,7,8],\n",
    "         [7,0,3,4,0,0,5,6,0],\n",
    "         [0,0,0,0,0,0,0,0,0]]\n",
    "\n",
    "inp2  = [[5,1,7,6,0,0,0,3,4],\n",
    "         [0,8,9,0,0,4,0,0,0],\n",
    "         [3,0,6,2,0,5,0,9,0],\n",
    "         [6,0,0,0,0,0,0,1,0],\n",
    "         [0,3,0,0,0,6,0,4,7],\n",
    "         [0,0,0,0,0,0,0,0,0],\n",
    "         [0,9,0,0,0,0,0,7,8],\n",
    "         [7,0,3,4,0,0,5,6,0],\n",
    "         [0,0,0,0,0,0,0,0,0]]\n",
    "\n",
    "inpd  = [[1,0,5,7,0,2,6,3,8],\n",
    "         [2,0,0,0,0,6,0,0,5],\n",
    "         [0,6,3,8,4,0,2,1,0],\n",
    "         [0,5,9,2,0,1,3,8,0],\n",
    "         [0,0,2,0,5,8,0,0,9],\n",
    "         [7,1,0,0,3,0,5,0,2],\n",
    "         [0,0,4,5,6,0,7,2,0],\n",
    "         [5,0,0,0,0,4,0,6,3],\n",
    "         [3,2,6,1,0,7,0,0,4]]\n",
    "\n",
    "hard  = [[8,5,0,0,0,2,4,0,0],\n",
    "         [7,2,0,0,0,0,0,0,9],\n",
    "         [0,0,4,0,0,0,0,0,0],\n",
    "         [0,0,0,1,0,7,0,0,2],\n",
    "         [3,0,5,0,0,0,9,0,0],\n",
    "         [0,4,0,0,0,0,0,0,0],\n",
    "         [0,0,0,0,8,0,0,7,0],\n",
    "         [0,1,7,0,0,0,0,0,0],\n",
    "         [0,0,0,0,3,6,0,4,0]]\n",
    "\n",
    "diff  = [[0,0,5,3,0,0,0,0,0],\n",
    "         [8,0,0,0,0,0,0,2,0],\n",
    "         [0,7,0,0,1,0,5,0,0],\n",
    "         [4,0,0,0,0,5,3,0,0],\n",
    "         [0,1,0,0,7,0,0,0,6],\n",
    "         [0,0,3,2,0,0,0,8,0],\n",
    "         [0,6,0,5,0,0,0,0,9],\n",
    "         [0,0,4,0,0,0,0,3,0],\n",
    "         [0,0,0,0,0,9,7,0,0]]\n"
   ]
  },
  {
   "cell_type": "code",
   "execution_count": 4,
   "metadata": {},
   "outputs": [],
   "source": [
    "class Sudoku():\n",
    "    def __init__(self, initial_values: Grid = None, rows: int = GRID_SIZE, columns: int = GRID_SIZE ) -> None:\n",
    "        self._rows: int = rows\n",
    "        self._columns: int = columns\n",
    "        if initial_values == None:\n",
    "            self.grid: Grid = [[EMPTY for c in range(columns)] for r in range(rows)]\n",
    "        elif len(initial_values) != rows:\n",
    "            print(f\"initial_values: {len(initial_values)} rows, should be {GRID_SIZE}.\")\n",
    "        elif not (all([len(r)==GRID_SIZE for r in initial_values])):\n",
    "            print(f\"initial_values: not all rows contain {GRID_SIZE} columns.\")\n",
    "        else:\n",
    "            self.grid: Grid = initial_values.copy()\n",
    "        self._options: Options = self.get_options()\n",
    "\n",
    "\n",
    "    def __str__(self) -> str:\n",
    "        first_row = True\n",
    "        output: str = \"[\"\n",
    "        for row in self.grid:\n",
    "            first_col = True\n",
    "            if first_row:\n",
    "                output += \"[\"\n",
    "                first_row = False\n",
    "            else:\n",
    "                output += \" [\"\n",
    "            for col in row:\n",
    "                if first_col:\n",
    "                    output += str(col)\n",
    "                    first_col = False\n",
    "                else:\n",
    "                    output += \", \" + str(col)\n",
    "            output += \"],\\n\"\n",
    "        output += \"]\\n\"\n",
    "        return output\n",
    "\n",
    "\n",
    "    def is_valid(self) -> bool:\n",
    "        \"\"\"\n",
    "        checks if sudoku constraints are satisfied\n",
    "        \"\"\"\n",
    "        for r in range(self._rows):\n",
    "            for c in range(self._columns):\n",
    "                if self.grid[r][c] != EMPTY:\n",
    "                    # check row\n",
    "                    for j in range(self._columns):\n",
    "                        if (c != j) & (self.grid[r][c] == self.grid[r][j]):\n",
    "                            return False\n",
    "                    # check column\n",
    "                    for i in range(self._rows):\n",
    "                        if (r != i) & (self.grid[r][c] == self.grid[i][c]):\n",
    "                            return False\n",
    "                    # check sector\n",
    "                    sec_r = r // SECTOR_SIZE\n",
    "                    sec_c = c // SECTOR_SIZE\n",
    "                    for i in range(SECTOR_SIZE):\n",
    "                        for j in range(SECTOR_SIZE):\n",
    "                            si = SECTOR_SIZE*sec_r + i\n",
    "                            sj = SECTOR_SIZE*sec_c + j\n",
    "                            if (r != si) & (c != sj) & (self.grid[r][c] == self.grid[si][sj]):\n",
    "                                return False\n",
    "        return True\n",
    "\n",
    "\n",
    "    def _init_domain(self) -> Options:\n",
    "        \"\"\"\n",
    "        initializes a list array of 1 through 9 domain options for each cell\n",
    "        \"\"\"\n",
    "        domain = []\n",
    "        for r in range(self._rows):\n",
    "            row = []\n",
    "            for c in range(self._columns):\n",
    "                row.append(list(range(1,VALUE_RANGE+1)))\n",
    "            domain.append(row)\n",
    "        return domain\n",
    "\n",
    "\n",
    "    def get_options(self) -> Options:\n",
    "        \"\"\"\n",
    "        given a sudoku puzzle grid with values entered, an array of options for each cell is returned  \n",
    "        \"\"\"\n",
    "        opts = self._init_domain()\n",
    "        for r in range(self._rows):\n",
    "            for c in range(self._columns):\n",
    "                if self.grid[r][c] != EMPTY:\n",
    "                    opts[r][c] = []\n",
    "                else:\n",
    "                    # check row\n",
    "                    for j in range(self._columns):\n",
    "                        if self.grid[r][j] in opts[r][c]:\n",
    "                            opts[r][c].remove(self.grid[r][j])\n",
    "                    # check column\n",
    "                    for i in range(self._rows):\n",
    "                        if self.grid[i][c] in opts[r][c]:\n",
    "                            opts[r][c].remove(self.grid[i][c])\n",
    "                    # check sector\n",
    "                    sec_r = r // SECTOR_SIZE\n",
    "                    sec_c = c // SECTOR_SIZE\n",
    "                    for i in range(SECTOR_SIZE):\n",
    "                        for j in range(SECTOR_SIZE):\n",
    "                            si = SECTOR_SIZE*sec_r + i\n",
    "                            sj = SECTOR_SIZE*sec_c + j\n",
    "                            if self.grid[si][sj] in opts[r][c]:\n",
    "                                opts[r][c].remove(self.grid[si][sj])\n",
    "        return opts\n",
    "\n",
    "\n",
    "    def set_cell(self, rcv: Optional[Tuple[int, int, int]] ):\n",
    "        \"\"\"\n",
    "        set a sudoku puzzle grid cell (r, c) to value (v)\n",
    "        \"\"\"\n",
    "        if rcv:\n",
    "            r, c, v = rcv\n",
    "            self.grid[r][c] = v\n",
    "            self._options: Options = self.get_options()\n",
    "        else:\n",
    "            print(f\"in set_cell() rcv is {rcv}.\")\n",
    "        return self\n",
    "\n",
    "\n",
    "    def print_num_options(self):\n",
    "        \"\"\"\n",
    "        prints a grid conaining number of options for each cell\n",
    "        \"\"\"\n",
    "        for r in range(self._rows):\n",
    "            print([len(self._options[r][c]) for c in range(self._columns)])\n",
    "\n",
    "\n",
    "    def num_options_all_zero(self) -> bool:\n",
    "        \"\"\"\n",
    "        if any option counts greater than zero, returns False\n",
    "        \"\"\"\n",
    "        for r in range(self._rows):\n",
    "            for c in range(self._columns):\n",
    "                if len(self._options[r][c]) > 0:\n",
    "                    return False\n",
    "        return True\n",
    "\n",
    "\n",
    "    def get_first_option(self, num: int) -> Optional[Tuple[int, int, int]]:\n",
    "        \"\"\"\n",
    "        find first cell with only num options\n",
    "            return row , column and the single option\n",
    "        otherwise return None\n",
    "        \"\"\"\n",
    "        for r in range(self._rows):\n",
    "            for c in range(self._columns):\n",
    "                if len(self._options[r][c]) == num:\n",
    "                    return (r, c, self._options[r][c][0])\n",
    "        return None\n",
    "\n",
    "\n",
    "    def fill_easy(self):\n",
    "        \"\"\"\n",
    "        fill first cell with one option\n",
    "        repeat until all cells with a single option are filled\n",
    "        \"\"\"\n",
    "        d = True\n",
    "        step_count = 0\n",
    "        opt = self.get_first_option(1)\n",
    "        while (opt is not None):\n",
    "            self.set_cell(opt)\n",
    "            step_count += 1\n",
    "            #print(f\"Step: {step_count}\\n{self}\")\n",
    "            opt = self.get_first_option(1)\n",
    "        return self\n"
   ]
  },
  {
   "cell_type": "code",
   "execution_count": 5,
   "metadata": {},
   "outputs": [],
   "source": [
    "p1 = Sudoku(deepcopy(puz1))"
   ]
  },
  {
   "cell_type": "code",
   "execution_count": 6,
   "metadata": {},
   "outputs": [
    {
     "data": {
      "text/plain": [
       "<__main__.Sudoku at 0x72bd85370>"
      ]
     },
     "execution_count": 6,
     "metadata": {},
     "output_type": "execute_result"
    }
   ],
   "source": [
    "p1"
   ]
  },
  {
   "cell_type": "code",
   "execution_count": 7,
   "metadata": {},
   "outputs": [
    {
     "name": "stdout",
     "output_type": "stream",
     "text": [
      "[[5, 1, 7, 6, 0, 0, 0, 3, 4],\n",
      " [2, 8, 9, 0, 0, 4, 0, 0, 0],\n",
      " [3, 4, 6, 2, 0, 5, 0, 9, 0],\n",
      " [6, 0, 2, 0, 0, 0, 0, 1, 0],\n",
      " [0, 3, 8, 0, 0, 6, 0, 4, 7],\n",
      " [0, 0, 0, 0, 0, 0, 0, 0, 0],\n",
      " [0, 9, 0, 0, 0, 0, 0, 7, 8],\n",
      " [7, 0, 3, 4, 0, 0, 5, 6, 0],\n",
      " [0, 0, 0, 0, 0, 0, 0, 0, 0],\n",
      "]\n",
      "\n"
     ]
    }
   ],
   "source": [
    "print(p1)"
   ]
  },
  {
   "cell_type": "code",
   "execution_count": 8,
   "metadata": {},
   "outputs": [
    {
     "data": {
      "text/plain": [
       "9"
      ]
     },
     "execution_count": 8,
     "metadata": {},
     "output_type": "execute_result"
    }
   ],
   "source": [
    "p1.grid[1][2]"
   ]
  },
  {
   "cell_type": "code",
   "execution_count": 9,
   "metadata": {},
   "outputs": [
    {
     "data": {
      "text/plain": [
       "9"
      ]
     },
     "execution_count": 9,
     "metadata": {},
     "output_type": "execute_result"
    }
   ],
   "source": [
    "p1._rows"
   ]
  },
  {
   "cell_type": "code",
   "execution_count": 10,
   "metadata": {},
   "outputs": [
    {
     "data": {
      "text/plain": [
       "9"
      ]
     },
     "execution_count": 10,
     "metadata": {},
     "output_type": "execute_result"
    }
   ],
   "source": [
    "p1._columns"
   ]
  },
  {
   "cell_type": "code",
   "execution_count": 11,
   "metadata": {},
   "outputs": [
    {
     "data": {
      "text/plain": [
       "[[5, 1, 7, 6, 0, 0, 0, 3, 4],\n",
       " [2, 8, 9, 0, 0, 4, 0, 0, 0],\n",
       " [3, 4, 6, 2, 0, 5, 0, 9, 0],\n",
       " [6, 0, 2, 0, 0, 0, 0, 1, 0],\n",
       " [0, 3, 8, 0, 0, 6, 0, 4, 7],\n",
       " [0, 0, 0, 0, 0, 0, 0, 0, 0],\n",
       " [0, 9, 0, 0, 0, 0, 0, 7, 8],\n",
       " [7, 0, 3, 4, 0, 0, 5, 6, 0],\n",
       " [0, 0, 0, 0, 0, 0, 0, 0, 0]]"
      ]
     },
     "execution_count": 11,
     "metadata": {},
     "output_type": "execute_result"
    }
   ],
   "source": [
    "p1.grid"
   ]
  },
  {
   "cell_type": "code",
   "execution_count": 12,
   "metadata": {
    "scrolled": true
   },
   "outputs": [
    {
     "data": {
      "text/plain": [
       "[[[], [], [], [], [8, 9], [8, 9], [2, 8], [], []],\n",
       " [[], [], [], [1, 3, 7], [1, 3, 7], [], [1, 6, 7], [5], [1, 5, 6]],\n",
       " [[], [], [], [], [1, 7, 8], [], [1, 7, 8], [], [1]],\n",
       " [[],\n",
       "  [5, 7],\n",
       "  [],\n",
       "  [3, 5, 7, 8, 9],\n",
       "  [3, 4, 5, 7, 8, 9],\n",
       "  [3, 7, 8, 9],\n",
       "  [3, 8, 9],\n",
       "  [],\n",
       "  [3, 5, 9]],\n",
       " [[1, 9], [], [], [1, 5, 9], [1, 2, 5, 9], [], [2, 9], [], []],\n",
       " [[1, 4, 9],\n",
       "  [5, 7],\n",
       "  [1, 4, 5],\n",
       "  [1, 3, 5, 7, 8, 9],\n",
       "  [1, 2, 3, 4, 5, 7, 8, 9],\n",
       "  [1, 2, 3, 7, 8, 9],\n",
       "  [2, 3, 6, 8, 9],\n",
       "  [2, 5, 8],\n",
       "  [2, 3, 5, 6, 9]],\n",
       " [[1, 4],\n",
       "  [],\n",
       "  [1, 4, 5],\n",
       "  [1, 3, 5],\n",
       "  [1, 2, 3, 5, 6],\n",
       "  [1, 2, 3],\n",
       "  [1, 2, 3, 4],\n",
       "  [],\n",
       "  []],\n",
       " [[], [2], [], [], [1, 2, 8, 9], [1, 2, 8, 9], [], [], [1, 2, 9]],\n",
       " [[1, 4, 8],\n",
       "  [2, 5, 6],\n",
       "  [1, 4, 5],\n",
       "  [1, 3, 5, 7, 8, 9],\n",
       "  [1, 2, 3, 5, 6, 7, 8, 9],\n",
       "  [1, 2, 3, 7, 8, 9],\n",
       "  [1, 2, 3, 4, 9],\n",
       "  [2],\n",
       "  [1, 2, 3, 9]]]"
      ]
     },
     "execution_count": 12,
     "metadata": {},
     "output_type": "execute_result"
    }
   ],
   "source": [
    "p1._options"
   ]
  },
  {
   "cell_type": "code",
   "execution_count": 13,
   "metadata": {},
   "outputs": [
    {
     "data": {
      "text/plain": [
       "True"
      ]
     },
     "execution_count": 13,
     "metadata": {},
     "output_type": "execute_result"
    }
   ],
   "source": [
    "p1.is_valid()"
   ]
  },
  {
   "cell_type": "code",
   "execution_count": 14,
   "metadata": {},
   "outputs": [
    {
     "name": "stdout",
     "output_type": "stream",
     "text": [
      "[0, 0, 0, 0, 2, 2, 2, 0, 0]\n",
      "[0, 0, 0, 3, 3, 0, 3, 1, 3]\n",
      "[0, 0, 0, 0, 3, 0, 3, 0, 1]\n",
      "[0, 2, 0, 5, 6, 4, 3, 0, 3]\n",
      "[2, 0, 0, 3, 4, 0, 2, 0, 0]\n",
      "[3, 2, 3, 6, 8, 6, 5, 3, 5]\n",
      "[2, 0, 3, 3, 5, 3, 4, 0, 0]\n",
      "[0, 1, 0, 0, 4, 4, 0, 0, 3]\n",
      "[3, 3, 3, 6, 8, 6, 5, 1, 4]\n"
     ]
    }
   ],
   "source": [
    "p1.print_num_options()"
   ]
  },
  {
   "cell_type": "code",
   "execution_count": 15,
   "metadata": {},
   "outputs": [
    {
     "data": {
      "text/plain": [
       "False"
      ]
     },
     "execution_count": 15,
     "metadata": {},
     "output_type": "execute_result"
    }
   ],
   "source": [
    "p1.num_options_all_zero()"
   ]
  },
  {
   "cell_type": "code",
   "execution_count": 16,
   "metadata": {},
   "outputs": [
    {
     "data": {
      "text/plain": [
       "(1, 7, 5)"
      ]
     },
     "execution_count": 16,
     "metadata": {},
     "output_type": "execute_result"
    }
   ],
   "source": [
    "o1 = p1.get_first_option(1)\n",
    "o1"
   ]
  },
  {
   "cell_type": "code",
   "execution_count": 17,
   "metadata": {},
   "outputs": [
    {
     "name": "stdout",
     "output_type": "stream",
     "text": [
      "1 7\n"
     ]
    },
    {
     "data": {
      "text/plain": [
       "[5]"
      ]
     },
     "execution_count": 17,
     "metadata": {},
     "output_type": "execute_result"
    }
   ],
   "source": [
    "print(o1[0], o1[1])\n",
    "p1._options[o1[0]][o1[1]]"
   ]
  },
  {
   "cell_type": "code",
   "execution_count": 18,
   "metadata": {},
   "outputs": [
    {
     "data": {
      "text/plain": [
       "<__main__.Sudoku at 0x72bd85370>"
      ]
     },
     "execution_count": 18,
     "metadata": {},
     "output_type": "execute_result"
    }
   ],
   "source": [
    "p1.set_cell(p1.get_first_option(1))"
   ]
  },
  {
   "cell_type": "code",
   "execution_count": 19,
   "metadata": {},
   "outputs": [
    {
     "data": {
      "text/plain": [
       "[[5, 1, 7, 6, 0, 0, 0, 3, 4],\n",
       " [2, 8, 9, 0, 0, 4, 0, 5, 0],\n",
       " [3, 4, 6, 2, 0, 5, 0, 9, 0],\n",
       " [6, 0, 2, 0, 0, 0, 0, 1, 0],\n",
       " [0, 3, 8, 0, 0, 6, 0, 4, 7],\n",
       " [0, 0, 0, 0, 0, 0, 0, 0, 0],\n",
       " [0, 9, 0, 0, 0, 0, 0, 7, 8],\n",
       " [7, 0, 3, 4, 0, 0, 5, 6, 0],\n",
       " [0, 0, 0, 0, 0, 0, 0, 0, 0]]"
      ]
     },
     "execution_count": 19,
     "metadata": {},
     "output_type": "execute_result"
    }
   ],
   "source": [
    "p1.grid"
   ]
  },
  {
   "cell_type": "code",
   "execution_count": 20,
   "metadata": {
    "scrolled": true
   },
   "outputs": [
    {
     "data": {
      "text/plain": [
       "[[[], [], [], [], [8, 9], [8, 9], [2, 8], [], []],\n",
       " [[], [], [], [1, 3, 7], [1, 3, 7], [], [1, 6, 7], [], [1, 6]],\n",
       " [[], [], [], [], [1, 7, 8], [], [1, 7, 8], [], [1]],\n",
       " [[],\n",
       "  [5, 7],\n",
       "  [],\n",
       "  [3, 5, 7, 8, 9],\n",
       "  [3, 4, 5, 7, 8, 9],\n",
       "  [3, 7, 8, 9],\n",
       "  [3, 8, 9],\n",
       "  [],\n",
       "  [3, 5, 9]],\n",
       " [[1, 9], [], [], [1, 5, 9], [1, 2, 5, 9], [], [2, 9], [], []],\n",
       " [[1, 4, 9],\n",
       "  [5, 7],\n",
       "  [1, 4, 5],\n",
       "  [1, 3, 5, 7, 8, 9],\n",
       "  [1, 2, 3, 4, 5, 7, 8, 9],\n",
       "  [1, 2, 3, 7, 8, 9],\n",
       "  [2, 3, 6, 8, 9],\n",
       "  [2, 8],\n",
       "  [2, 3, 5, 6, 9]],\n",
       " [[1, 4],\n",
       "  [],\n",
       "  [1, 4, 5],\n",
       "  [1, 3, 5],\n",
       "  [1, 2, 3, 5, 6],\n",
       "  [1, 2, 3],\n",
       "  [1, 2, 3, 4],\n",
       "  [],\n",
       "  []],\n",
       " [[], [2], [], [], [1, 2, 8, 9], [1, 2, 8, 9], [], [], [1, 2, 9]],\n",
       " [[1, 4, 8],\n",
       "  [2, 5, 6],\n",
       "  [1, 4, 5],\n",
       "  [1, 3, 5, 7, 8, 9],\n",
       "  [1, 2, 3, 5, 6, 7, 8, 9],\n",
       "  [1, 2, 3, 7, 8, 9],\n",
       "  [1, 2, 3, 4, 9],\n",
       "  [2],\n",
       "  [1, 2, 3, 9]]]"
      ]
     },
     "execution_count": 20,
     "metadata": {},
     "output_type": "execute_result"
    }
   ],
   "source": [
    "p1._options"
   ]
  },
  {
   "cell_type": "code",
   "execution_count": 21,
   "metadata": {
    "tags": []
   },
   "outputs": [
    {
     "name": "stdout",
     "output_type": "stream",
     "text": [
      "[0, 0, 0, 0, 2, 2, 2, 0, 0]\n",
      "[0, 0, 0, 3, 3, 0, 3, 0, 2]\n",
      "[0, 0, 0, 0, 3, 0, 3, 0, 1]\n",
      "[0, 2, 0, 5, 6, 4, 3, 0, 3]\n",
      "[2, 0, 0, 3, 4, 0, 2, 0, 0]\n",
      "[3, 2, 3, 6, 8, 6, 5, 2, 5]\n",
      "[2, 0, 3, 3, 5, 3, 4, 0, 0]\n",
      "[0, 1, 0, 0, 4, 4, 0, 0, 3]\n",
      "[3, 3, 3, 6, 8, 6, 5, 1, 4]\n"
     ]
    }
   ],
   "source": [
    "p1.print_num_options()"
   ]
  },
  {
   "cell_type": "code",
   "execution_count": 22,
   "metadata": {
    "scrolled": true
   },
   "outputs": [
    {
     "data": {
      "text/plain": [
       "<__main__.Sudoku at 0x72bd85370>"
      ]
     },
     "execution_count": 22,
     "metadata": {},
     "output_type": "execute_result"
    }
   ],
   "source": [
    "p1.fill_easy()"
   ]
  },
  {
   "cell_type": "code",
   "execution_count": 23,
   "metadata": {},
   "outputs": [
    {
     "data": {
      "text/plain": [
       "True"
      ]
     },
     "execution_count": 23,
     "metadata": {},
     "output_type": "execute_result"
    }
   ],
   "source": [
    "p1.num_options_all_zero()"
   ]
  },
  {
   "cell_type": "code",
   "execution_count": 24,
   "metadata": {},
   "outputs": [
    {
     "data": {
      "text/plain": [
       "True"
      ]
     },
     "execution_count": 24,
     "metadata": {},
     "output_type": "execute_result"
    }
   ],
   "source": [
    "p1.is_valid()"
   ]
  },
  {
   "cell_type": "code",
   "execution_count": null,
   "metadata": {},
   "outputs": [],
   "source": []
  },
  {
   "cell_type": "code",
   "execution_count": null,
   "metadata": {},
   "outputs": [],
   "source": []
  },
  {
   "cell_type": "code",
   "execution_count": 25,
   "metadata": {},
   "outputs": [
    {
     "name": "stdout",
     "output_type": "stream",
     "text": [
      "[[5, 1, 7, 6, 0, 0, 0, 3, 4], [2, 8, 9, 0, 0, 4, 0, 0, 0], [3, 4, 6, 2, 0, 5, 0, 9, 0], [6, 0, 2, 0, 0, 0, 0, 1, 0], [0, 3, 8, 0, 0, 6, 0, 4, 7], [0, 0, 0, 0, 0, 0, 0, 0, 0], [0, 9, 0, 0, 0, 0, 0, 7, 8], [7, 0, 3, 4, 0, 0, 5, 6, 0], [0, 0, 0, 0, 0, 0, 0, 0, 0]]\n"
     ]
    }
   ],
   "source": [
    "print(puz1)"
   ]
  },
  {
   "cell_type": "code",
   "execution_count": 26,
   "metadata": {},
   "outputs": [
    {
     "name": "stdout",
     "output_type": "stream",
     "text": [
      "[[5, 1, 7, 6, 0, 0, 0, 3, 4],\n",
      " [2, 8, 9, 0, 0, 4, 0, 0, 0],\n",
      " [3, 4, 6, 2, 0, 5, 0, 9, 0],\n",
      " [6, 0, 2, 0, 0, 0, 0, 1, 0],\n",
      " [0, 3, 8, 0, 0, 6, 0, 4, 7],\n",
      " [0, 0, 0, 0, 0, 0, 0, 0, 0],\n",
      " [0, 9, 0, 0, 0, 0, 0, 7, 8],\n",
      " [7, 0, 3, 4, 0, 0, 5, 6, 0],\n",
      " [0, 0, 0, 0, 0, 0, 0, 0, 0],\n",
      "]\n",
      "\n"
     ]
    }
   ],
   "source": [
    "p1 = Sudoku(puz1)\n",
    "print(p1)"
   ]
  },
  {
   "cell_type": "code",
   "execution_count": 27,
   "metadata": {},
   "outputs": [],
   "source": [
    "def sudoku_solver(sudoku: Sudoku) -> Optional[Sudoku]:\n",
    "    solution = None\n",
    "    sud1 = deepcopy(sudoku)\n",
    "    sud1._options = sud1.get_options()\n",
    "    sud1 = sud1.fill_easy()\n",
    "    sud1._options = sud1.get_options()\n",
    "    \n",
    "    if sud1.num_options_all_zero() & sud1.is_valid():\n",
    "        return sud1\n",
    "    else:\n",
    "        for n in range(2, VALUE_RANGE):\n",
    "            opt = sud1.get_first_option(n)\n",
    "            if opt is None:\n",
    "                continue\n",
    "            opt_list: List = sud1._options[opt[0]][opt[1]]\n",
    "            for v in opt_list:\n",
    "                sud1 = sud1.set_cell((opt[0],opt[1],v)).fill_easy()\n",
    "                if sud1.is_valid():\n",
    "                    print(\"call solver\")\n",
    "                    solution = sudoku_solver(sud1)\n",
    "                    if solution is not None:\n",
    "                        return solution\n",
    "        return None\n"
   ]
  },
  {
   "cell_type": "code",
   "execution_count": 28,
   "metadata": {
    "scrolled": true,
    "tags": []
   },
   "outputs": [
    {
     "name": "stdout",
     "output_type": "stream",
     "text": [
      "[[5, 1, 7, 6, 9, 8, 2, 3, 4],\n",
      " [2, 8, 9, 1, 3, 4, 7, 5, 6],\n",
      " [3, 4, 6, 2, 7, 5, 8, 9, 1],\n",
      " [6, 7, 2, 8, 4, 9, 3, 1, 5],\n",
      " [1, 3, 8, 5, 2, 6, 9, 4, 7],\n",
      " [9, 5, 4, 7, 1, 3, 6, 8, 2],\n",
      " [4, 9, 5, 3, 6, 2, 1, 7, 8],\n",
      " [7, 2, 3, 4, 8, 1, 5, 6, 9],\n",
      " [8, 6, 1, 9, 5, 7, 4, 2, 3],\n",
      "]\n",
      "\n"
     ]
    }
   ],
   "source": [
    "soln1 = sudoku_solver(p1)\n",
    "print(soln1)"
   ]
  },
  {
   "cell_type": "code",
   "execution_count": 29,
   "metadata": {},
   "outputs": [
    {
     "name": "stdout",
     "output_type": "stream",
     "text": [
      "soln1 True\n"
     ]
    }
   ],
   "source": [
    "print(\"soln1\", soln1.is_valid())\n"
   ]
  },
  {
   "cell_type": "code",
   "execution_count": null,
   "metadata": {},
   "outputs": [],
   "source": []
  },
  {
   "cell_type": "code",
   "execution_count": 30,
   "metadata": {},
   "outputs": [
    {
     "name": "stdout",
     "output_type": "stream",
     "text": [
      "[[5, 1, 7, 6, 0, 0, 0, 3, 4],\n",
      " [0, 8, 9, 0, 0, 4, 0, 0, 0],\n",
      " [3, 0, 6, 2, 0, 5, 0, 9, 0],\n",
      " [6, 0, 0, 0, 0, 0, 0, 1, 0],\n",
      " [0, 3, 0, 0, 0, 6, 0, 4, 7],\n",
      " [0, 0, 0, 0, 0, 0, 0, 0, 0],\n",
      " [0, 9, 0, 0, 0, 0, 0, 7, 8],\n",
      " [7, 0, 3, 4, 0, 0, 5, 6, 0],\n",
      " [0, 0, 0, 0, 0, 0, 0, 0, 0],\n",
      "]\n",
      "\n"
     ]
    }
   ],
   "source": [
    "p2 = Sudoku(inp2)\n",
    "print(p2)"
   ]
  },
  {
   "cell_type": "code",
   "execution_count": 31,
   "metadata": {
    "tags": []
   },
   "outputs": [
    {
     "name": "stdout",
     "output_type": "stream",
     "text": [
      "call solver\n",
      "call solver\n",
      "call solver\n",
      "call solver\n",
      "[[5, 1, 7, 6, 8, 9, 2, 3, 4],\n",
      " [2, 8, 9, 1, 3, 4, 7, 5, 6],\n",
      " [3, 4, 6, 2, 7, 5, 8, 9, 1],\n",
      " [6, 7, 8, 9, 4, 2, 3, 1, 5],\n",
      " [1, 3, 2, 8, 5, 6, 9, 4, 7],\n",
      " [9, 5, 4, 3, 0, 1, 6, 8, 2],\n",
      " [4, 9, 1, 5, 2, 3, 0, 7, 8],\n",
      " [7, 2, 3, 4, 1, 8, 5, 6, 9],\n",
      " [8, 6, 5, 0, 9, 7, 1, 2, 3],\n",
      "]\n",
      "\n"
     ]
    }
   ],
   "source": [
    "soln2 = sudoku_solver(p2)\n",
    "print(soln2)"
   ]
  },
  {
   "cell_type": "code",
   "execution_count": 32,
   "metadata": {},
   "outputs": [
    {
     "name": "stdout",
     "output_type": "stream",
     "text": [
      "soln2 True\n"
     ]
    }
   ],
   "source": [
    "print(\"soln2\", soln2.is_valid())\n"
   ]
  },
  {
   "cell_type": "code",
   "execution_count": null,
   "metadata": {},
   "outputs": [],
   "source": []
  },
  {
   "cell_type": "code",
   "execution_count": null,
   "metadata": {},
   "outputs": [],
   "source": []
  },
  {
   "cell_type": "code",
   "execution_count": 96,
   "metadata": {},
   "outputs": [],
   "source": [
    "def is_valid(self) -> bool:\n",
    "    \"\"\"\n",
    "    checks if sudoku constraints are satisfied\n",
    "    \"\"\"\n",
    "    for r in range(self._rows):\n",
    "        for c in range(self._columns):\n",
    "            if self.grid[r][c] != EMPTY:\n",
    "                # check row\n",
    "                for j in range(self._columns):\n",
    "                    if (c != j) & (self.grid[r][c] == self.grid[r][j]):\n",
    "                        return False\n",
    "                # check column\n",
    "                for i in range(self._rows):\n",
    "                    if (r != i) & (self.grid[r][c] == self.grid[i][c]):\n",
    "                        return False\n",
    "                # check sector\n",
    "                sec_r = r // SECTOR_SIZE\n",
    "                sec_c = c // SECTOR_SIZE\n",
    "                for i in range(SECTOR_SIZE):\n",
    "                    for j in range(SECTOR_SIZE):\n",
    "                        si = SECTOR_SIZE*sec_r + i\n",
    "                        sj = SECTOR_SIZE*sec_c + j\n",
    "                        if (r != si) & (c != sj) & (self.grid[r][c] == self.grid[si][sj]):\n",
    "                            return False\n",
    "    return True\n"
   ]
  },
  {
   "cell_type": "code",
   "execution_count": 98,
   "metadata": {},
   "outputs": [
    {
     "name": "stdout",
     "output_type": "stream",
     "text": [
      "soln1 True\n",
      "soln2 False\n"
     ]
    }
   ],
   "source": [
    "print(\"soln1\", is_valid(soln1))\n",
    "print(\"soln2\", is_valid(soln2))\n"
   ]
  },
  {
   "cell_type": "code",
   "execution_count": null,
   "metadata": {},
   "outputs": [],
   "source": []
  },
  {
   "cell_type": "code",
   "execution_count": null,
   "metadata": {},
   "outputs": [],
   "source": []
  },
  {
   "cell_type": "code",
   "execution_count": null,
   "metadata": {},
   "outputs": [],
   "source": []
  },
  {
   "cell_type": "code",
   "execution_count": null,
   "metadata": {},
   "outputs": [],
   "source": []
  }
 ],
 "metadata": {
  "kernelspec": {
   "display_name": "Python 3",
   "language": "python",
   "name": "python3"
  },
  "language_info": {
   "codemirror_mode": {
    "name": "ipython",
    "version": 3
   },
   "file_extension": ".py",
   "mimetype": "text/x-python",
   "name": "python",
   "nbconvert_exporter": "python",
   "pygments_lexer": "ipython3",
   "version": "3.9.4"
  }
 },
 "nbformat": 4,
 "nbformat_minor": 4
}
